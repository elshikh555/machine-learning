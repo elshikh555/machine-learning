{
 "cells": [
  {
   "cell_type": "code",
   "execution_count": 4,
   "id": "b8a7df2d",
   "metadata": {},
   "outputs": [],
   "source": [
    "import nltk\n",
    "import random\n",
    "from nltk.corpus import movie_reviews\n",
    "from nltk.classify import NaiveBayesClassifier\n",
    "from nltk.classify.util import accuracy"
   ]
  },
  {
   "cell_type": "code",
   "execution_count": 5,
   "id": "a4b7a6a8",
   "metadata": {},
   "outputs": [
    {
     "name": "stderr",
     "output_type": "stream",
     "text": [
      "[nltk_data] Downloading package movie_reviews to\n",
      "[nltk_data]     C:\\Users\\eslam\\AppData\\Roaming\\nltk_data...\n",
      "[nltk_data]   Unzipping corpora\\movie_reviews.zip.\n"
     ]
    },
    {
     "data": {
      "text/plain": [
       "True"
      ]
     },
     "execution_count": 5,
     "metadata": {},
     "output_type": "execute_result"
    }
   ],
   "source": [
    "# Download the movie_reviews dataset if not already downloaded\n",
    "nltk.download('movie_reviews')"
   ]
  },
  {
   "cell_type": "code",
   "execution_count": 6,
   "id": "13ee7149",
   "metadata": {},
   "outputs": [],
   "source": [
    "# Create a list of documents where each document is a tuple (words, category)\n",
    "documents = [(list(movie_reviews.words(fileid)), category)\n",
    "             for category in movie_reviews.categories()\n",
    "             for fileid in movie_reviews.fileids(category)]"
   ]
  },
  {
   "cell_type": "code",
   "execution_count": 7,
   "id": "b3bd91a5",
   "metadata": {},
   "outputs": [],
   "source": [
    "# Shuffle the documents to ensure a random distribution\n",
    "random.shuffle(documents)\n"
   ]
  },
  {
   "cell_type": "code",
   "execution_count": 8,
   "id": "cd4e4320",
   "metadata": {},
   "outputs": [],
   "source": [
    "# Define a function to extract features from the document\n",
    "def document_features(document, word_features):\n",
    "    document_words = set(document)\n",
    "    features = {}\n",
    "    for word in word_features:\n",
    "        features[f'contains({word})'] = (word in document_words)\n",
    "    return features"
   ]
  },
  {
   "cell_type": "code",
   "execution_count": 9,
   "id": "e1791bb0",
   "metadata": {},
   "outputs": [],
   "source": [
    "\n",
    "# Get all words from the movie_reviews dataset and select the 2000 most frequent words as features\n",
    "all_words = nltk.FreqDist(w.lower() for w in movie_reviews.words())\n",
    "word_features = list(all_words)[:2000]\n"
   ]
  },
  {
   "cell_type": "code",
   "execution_count": 10,
   "id": "e69180df",
   "metadata": {},
   "outputs": [],
   "source": [
    "\n",
    "# Extract features for each document\n",
    "featuresets = [(document_features(d, word_features), c) for (d, c) in documents]\n"
   ]
  },
  {
   "cell_type": "code",
   "execution_count": 11,
   "id": "93d406a4",
   "metadata": {},
   "outputs": [],
   "source": [
    "# Split the data into training and testing sets\n",
    "train_set, test_set = featuresets[100:], featuresets[:100]"
   ]
  },
  {
   "cell_type": "code",
   "execution_count": 12,
   "id": "46141c0c",
   "metadata": {},
   "outputs": [],
   "source": [
    "\n",
    "# Train a Naive Bayes classifier\n",
    "classifier = NaiveBayesClassifier.train(train_set)"
   ]
  },
  {
   "cell_type": "code",
   "execution_count": 13,
   "id": "549ad079",
   "metadata": {},
   "outputs": [
    {
     "name": "stdout",
     "output_type": "stream",
     "text": [
      "Accuracy: 0.8\n"
     ]
    }
   ],
   "source": [
    "# Evaluate the classifier on the test set\n",
    "accuracy_score = accuracy(classifier, test_set)\n",
    "print(f'Accuracy: {accuracy_score}')"
   ]
  },
  {
   "cell_type": "code",
   "execution_count": 14,
   "id": "9582a2e8",
   "metadata": {},
   "outputs": [
    {
     "name": "stdout",
     "output_type": "stream",
     "text": [
      "Predicted Category: neg\n"
     ]
    }
   ],
   "source": [
    "\n",
    "# Example: Classify a new review\n",
    "new_review = \"This movie is fantastic! I loved every moment of it.\"\n",
    "features = document_features(new_review.split(), word_features)\n",
    "prediction = classifier.classify(features)\n",
    "print(f'Predicted Category: {prediction}')"
   ]
  },
  {
   "cell_type": "code",
   "execution_count": 15,
   "id": "e14601d9",
   "metadata": {},
   "outputs": [
    {
     "name": "stdout",
     "output_type": "stream",
     "text": [
      "     Distance to the nearest MRT station  Number of convenience stores  \\\n",
      "0                             4082.01500                             8   \n",
      "1                              274.01440                             2   \n",
      "2                             1978.67100                            10   \n",
      "3                             1055.06700                             5   \n",
      "4                              967.40000                             6   \n",
      "..                                   ...                           ...   \n",
      "409                            170.12890                             6   \n",
      "410                            323.69120                             2   \n",
      "411                            451.64190                             8   \n",
      "412                            292.99780                             5   \n",
      "413                             90.45606                             6   \n",
      "\n",
      "      Latitude   Longitude  \n",
      "0    25.007059  121.561694  \n",
      "1    25.012148  121.546990  \n",
      "2    25.003850  121.528336  \n",
      "3    24.962887  121.482178  \n",
      "4    25.011037  121.479946  \n",
      "..         ...         ...  \n",
      "409  24.981186  121.486798  \n",
      "410  24.950070  121.483918  \n",
      "411  24.963901  121.543387  \n",
      "412  24.997863  121.558286  \n",
      "413  24.952904  121.526395  \n",
      "\n",
      "[414 rows x 4 columns]\n"
     ]
    }
   ],
   "source": [
    "print(X)"
   ]
  },
  {
   "cell_type": "code",
   "execution_count": null,
   "id": "19c0d431",
   "metadata": {},
   "outputs": [],
   "source": []
  }
 ],
 "metadata": {
  "kernelspec": {
   "display_name": "Python 3",
   "language": "python",
   "name": "python3"
  },
  "language_info": {
   "codemirror_mode": {
    "name": "ipython",
    "version": 3
   },
   "file_extension": ".py",
   "mimetype": "text/x-python",
   "name": "python",
   "nbconvert_exporter": "python",
   "pygments_lexer": "ipython3",
   "version": "3.8.8"
  }
 },
 "nbformat": 4,
 "nbformat_minor": 5
}
